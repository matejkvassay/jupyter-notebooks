{
 "cells": [
  {
   "cell_type": "code",
   "execution_count": 1,
   "metadata": {},
   "outputs": [
    {
     "name": "stdout",
     "output_type": "stream",
     "text": [
      "Collecting yahoo-finance\n",
      "  Downloading https://files.pythonhosted.org/packages/7c/8c/61e2250dd88a22a3156c2b44fd021140bf984b49800584cb0372193a116a/yahoo-finance-1.4.0.tar.gz\n",
      "Requirement already satisfied, skipping upgrade: pytz in /home/matejkvassay5/.virtualenvs/main/lib/python3.5/site-packages (from yahoo-finance) (2019.2)\n",
      "Collecting simplejson (from yahoo-finance)\n",
      "\u001b[?25l  Downloading https://files.pythonhosted.org/packages/e3/24/c35fb1c1c315fc0fffe61ea00d3f88e85469004713dab488dee4f35b0aff/simplejson-3.16.0.tar.gz (81kB)\n",
      "\u001b[K     |████████████████████████████████| 81kB 5.3MB/s eta 0:00:011\n",
      "\u001b[?25hBuilding wheels for collected packages: yahoo-finance, simplejson\n",
      "  Building wheel for yahoo-finance (setup.py) ... \u001b[?25ldone\n",
      "\u001b[?25h  Created wheel for yahoo-finance: filename=yahoo_finance-1.4.0-cp35-none-any.whl size=7233 sha256=9db79ad56b101633e56fc04bb86c0f0aa3524d0453afc6b7f0e97e354f302c58\n",
      "  Stored in directory: /home/matejkvassay5/.cache/pip/wheels/58/77/5b/66026e0fa7af2ee5926a516a70d3df95e17f952c570bc5aee6\n",
      "  Building wheel for simplejson (setup.py) ... \u001b[?25ldone\n",
      "\u001b[?25h  Created wheel for simplejson: filename=simplejson-3.16.0-cp35-none-any.whl size=55274 sha256=8b969fcb151d3d730f09056174f746052ceffee3e2a9c43443fba04fb5828da5\n",
      "  Stored in directory: /home/matejkvassay5/.cache/pip/wheels/5d/1a/1e/0350bb3df3e74215cd91325344cc86c2c691f5306eb4d22c77\n",
      "Successfully built yahoo-finance simplejson\n",
      "Installing collected packages: simplejson, yahoo-finance\n",
      "Successfully installed simplejson-3.16.0 yahoo-finance-1.4.0\n"
     ]
    }
   ],
   "source": [
    "!pip install --upgrade yahoo-finance"
   ]
  },
  {
   "cell_type": "code",
   "execution_count": 2,
   "metadata": {},
   "outputs": [],
   "source": [
    "from yahoo_finance import Share"
   ]
  },
  {
   "cell_type": "code",
   "execution_count": null,
   "metadata": {},
   "outputs": [],
   "source": []
  }
 ],
 "metadata": {
  "kernelspec": {
   "display_name": "Python 3",
   "language": "python",
   "name": "python3"
  },
  "language_info": {
   "codemirror_mode": {
    "name": "ipython",
    "version": 3
   },
   "file_extension": ".py",
   "mimetype": "text/x-python",
   "name": "python",
   "nbconvert_exporter": "python",
   "pygments_lexer": "ipython3",
   "version": "3.5.3"
  }
 },
 "nbformat": 4,
 "nbformat_minor": 4
}
